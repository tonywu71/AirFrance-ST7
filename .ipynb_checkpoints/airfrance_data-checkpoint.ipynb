{
 "cells": [
  {
   "cell_type": "markdown",
   "metadata": {},
   "source": [
    "<center> <font size=6> Projet Optimisation AirFrance - Data </font> </center>\n",
    "<center> Tony WU </center>"
   ]
  },
  {
   "cell_type": "markdown",
   "metadata": {
    "toc": true
   },
   "source": [
    "<h1>Table of Contents<span class=\"tocSkip\"></span></h1>\n",
    "<div class=\"toc\"><ul class=\"toc-item\"><li><span><a href=\"#Modules\" data-toc-modified-id=\"Modules-1\"><span class=\"toc-item-num\">1&nbsp;&nbsp;</span>Modules</a></span></li><li><span><a href=\"#Import-data\" data-toc-modified-id=\"Import-data-2\"><span class=\"toc-item-num\">2&nbsp;&nbsp;</span>Import data</a></span></li></ul></div>"
   ]
  },
  {
   "cell_type": "markdown",
   "metadata": {},
   "source": [
    "# Modules"
   ]
  },
  {
   "cell_type": "code",
   "execution_count": 1,
   "metadata": {},
   "outputs": [],
   "source": [
    "import pandas as pd"
   ]
  },
  {
   "cell_type": "markdown",
   "metadata": {},
   "source": [
    "# Import data"
   ]
  },
  {
   "cell_type": "markdown",
   "metadata": {},
   "source": [
    "Each sheet of the Excel file corresponds to a day.  \n",
    "The last two rows of each sheet in the file give the sum of each column. Thus we'll remove them during the import with Pandas."
   ]
  },
  {
   "cell_type": "code",
   "execution_count": 2,
   "metadata": {
    "scrolled": false
   },
   "outputs": [
    {
     "name": "stdout",
     "output_type": "stream",
     "text": [
      "Number of sheets: 9\n",
      "Number of rows for the last sheet: 89\n"
     ]
    }
   ],
   "source": [
    "dic_df = pd.read_excel(\n",
    "    \"data/Data Seating.xlsx\",\n",
    "    converters={\n",
    "        'Numéro du groupe': int, 'Femmes': int, 'Hommes': int, 'Enfants': int, \n",
    "        'WCHR': int, 'Classe': str}, # TransitTime is automatically converted to datetime.time\n",
    "    skipfooter=2, # remove the last two rows\n",
    "    index_col='Numéro du groupe',\n",
    "    sheet_name=None)\n",
    "\n",
    "for key, df in dic_df.items():\n",
    "    dic_df[key] = df.fillna(value=0)\n",
    "    # dic_df[key]['TransitTime'] = pd.to_datetime(df['TransitTime'])\n",
    "\n",
    "print(f\"Number of sheets: {len(dic_df)}\")\n",
    "print(f\"Number of rows for the last sheet: {len(df)}\")"
   ]
  },
  {
   "cell_type": "code",
   "execution_count": 3,
   "metadata": {},
   "outputs": [
    {
     "data": {
      "text/plain": [
       "dict_keys(['7Nov', '8Nov', '10Nov', '11Nov', '12Nov', '14Nov', '15Nov', '16Nov', '17Nov'])"
      ]
     },
     "execution_count": 3,
     "metadata": {},
     "output_type": "execute_result"
    }
   ],
   "source": [
    "dic_df.keys()"
   ]
  },
  {
   "cell_type": "code",
   "execution_count": 4,
   "metadata": {},
   "outputs": [
    {
     "name": "stdout",
     "output_type": "stream",
     "text": [
      "Successfully exported data_seating_7Nov.csv\n",
      "Successfully exported data_seating_8Nov.csv\n",
      "Successfully exported data_seating_10Nov.csv\n",
      "Successfully exported data_seating_11Nov.csv\n",
      "Successfully exported data_seating_12Nov.csv\n",
      "Successfully exported data_seating_14Nov.csv\n",
      "Successfully exported data_seating_15Nov.csv\n",
      "Successfully exported data_seating_16Nov.csv\n",
      "Successfully exported data_seating_17Nov.csv\n"
     ]
    }
   ],
   "source": [
    "for date, df in dic_df.items():\n",
    "    df.to_csv(f'data/data_seating_{date}.csv', index=False)\n",
    "    print(f\"Successfully exported data_seating_{date}.csv\")"
   ]
  },
  {
   "cell_type": "code",
   "execution_count": null,
   "metadata": {},
   "outputs": [],
   "source": []
  }
 ],
 "metadata": {
  "kernelspec": {
   "display_name": "Python 3",
   "language": "python",
   "name": "python3"
  },
  "language_info": {
   "codemirror_mode": {
    "name": "ipython",
    "version": 3
   },
   "file_extension": ".py",
   "mimetype": "text/x-python",
   "name": "python",
   "nbconvert_exporter": "python",
   "pygments_lexer": "ipython3",
   "version": "3.7.9"
  },
  "toc": {
   "base_numbering": 1,
   "nav_menu": {},
   "number_sections": true,
   "sideBar": true,
   "skip_h1_title": false,
   "title_cell": "Table of Contents",
   "title_sidebar": "Contents",
   "toc_cell": true,
   "toc_position": {},
   "toc_section_display": true,
   "toc_window_display": false
  },
  "varInspector": {
   "cols": {
    "lenName": 16,
    "lenType": 16,
    "lenVar": 40
   },
   "kernels_config": {
    "python": {
     "delete_cmd_postfix": "",
     "delete_cmd_prefix": "del ",
     "library": "var_list.py",
     "varRefreshCmd": "print(var_dic_list())"
    },
    "r": {
     "delete_cmd_postfix": ") ",
     "delete_cmd_prefix": "rm(",
     "library": "var_list.r",
     "varRefreshCmd": "cat(var_dic_list()) "
    }
   },
   "types_to_exclude": [
    "module",
    "function",
    "builtin_function_or_method",
    "instance",
    "_Feature"
   ],
   "window_display": false
  }
 },
 "nbformat": 4,
 "nbformat_minor": 4
}
